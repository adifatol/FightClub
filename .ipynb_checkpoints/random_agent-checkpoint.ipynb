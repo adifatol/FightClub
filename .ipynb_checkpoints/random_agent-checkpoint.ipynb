{
 "cells": [
  {
   "cell_type": "code",
   "execution_count": 1,
   "metadata": {},
   "outputs": [],
   "source": [
    "import retro\n",
    "import numpy as np\n",
    "import random\n",
    "import cv2"
   ]
  },
  {
   "cell_type": "code",
   "execution_count": 2,
   "metadata": {},
   "outputs": [],
   "source": [
    "class GenesisAgent():\n",
    "    def __init__(self, env):\n",
    "        self.btns = [\"B\", \"A\", \"SELECT\", \"START\", \"UP\", \"DOWN\", \"LEFT\", \"RIGHT\", \"C\", \"Y\", \"X\", \"Z\"]\n",
    "        self.actions = self.gen_streetfighter_actions()\n",
    "        self.action_size = len(self.actions)\n",
    "        self.state_size = self.gen_streetfighter_states(env)\n",
    "        \n",
    "    def gen_streetfighter_actions(self):\n",
    "        action_atk = [[\"B\"], [\"A\"], [\"C\"], [\"Y\"], [\"X\"], [\"Z\"]]\n",
    "        action_mov = [[\"UP\"], [\"DOWN\"], [\"LEFT\"], [\"RIGHT\"]]\n",
    "\n",
    "        action_atk_cmbo = [[\"DOWN\"] + atk for atk in action_atk] # JUMP-ATTACKS are sequential actions not instant\n",
    "        action_mov_cmbo = [[\"UP\", \"LEFT\"], [\"UP\", \"RIGHT\"], [\"DOWN\", \"LEFT\"], [\"DOWN\", \"RIGHT\"]]\n",
    "        \n",
    "        actions_raw = action_atk + action_mov + action_atk_cmbo + action_mov_cmbo\n",
    "    \n",
    "        return self.discretize_actions(actions_raw)\n",
    "    \n",
    "    def gen_streetfighter_states(self, env):\n",
    "        obs = env.reset()    \n",
    "        state, reward, done, info = env.step([0]*12)\n",
    "        return self.binarize_state(state).shape\n",
    "        \n",
    "    def discretize_actions(self, actions):\n",
    "        ack_position = [[self.btns.index(btn) for btn in ack] for ack in actions]\n",
    "        ack_discrete = np.zeros((len(actions),len(self.btns)), dtype=int)\n",
    "        \n",
    "        for i, pos in enumerate(ack_position):\n",
    "            np.put(ack_discrete[i], pos, [1]*len(pos))\n",
    "\n",
    "        return ack_discrete\n",
    "    \n",
    "    def binarize_state(self, state):\n",
    "        state = cv2.cvtColor(cv2.resize(state, state.shape[1::-1]), cv2.COLOR_BGR2GRAY)\n",
    "        ret,state_bin = cv2.threshold(state,70,140,cv2.THRESH_BINARY)\n",
    "        state_bin = state_bin[50:-15,:] # magic numbers for dim reduction\n",
    "        return state_bin\n",
    "    \n",
    "    def resize_state(self, state):\n",
    "        mini = min(state.shape)\n",
    "        return cv2.resize(state, (mini,mini))\n",
    "\n",
    "    def take_action(self):\n",
    "        return random.choice(self.actions)  "
   ]
  },
  {
   "cell_type": "markdown",
   "metadata": {},
   "source": [
    "# Raw state:\n",
    "<img src=\"doc/fig_0.png\">\n",
    "\n",
    "# Formated input:\n",
    "<img src=\"doc/fig_1.png\">"
   ]
  },
  {
   "cell_type": "code",
   "execution_count": 3,
   "metadata": {},
   "outputs": [],
   "source": [
    "env = retro.make(game='StreetFighterIISpecialChampionEdition-Genesis', state=\"Champion.Level1.RyuVsGuile\")\n",
    "\n",
    "agent = GenesisAgent(env)"
   ]
  },
  {
   "cell_type": "code",
   "execution_count": 4,
   "metadata": {},
   "outputs": [],
   "source": [
    "obs = env.reset()\n",
    "while True:\n",
    "    ack = agent.take_action()      \n",
    "\n",
    "    state, reward, done, info = env.step(ack)\n",
    "    env.render()\n",
    "    if done or info['enemy_matches_won'] > 0:\n",
    "        obs = env.reset()\n",
    "    break\n",
    "env.close()"
   ]
  },
  {
   "cell_type": "code",
   "execution_count": 5,
   "metadata": {},
   "outputs": [
    {
     "data": {
      "text/plain": [
       "True"
      ]
     },
     "execution_count": 5,
     "metadata": {},
     "output_type": "execute_result"
    }
   ],
   "source": [
    "imagem = (255-state)\n",
    "\n",
    "cv2.imwrite('doc/fig_0.png',imagem)"
   ]
  },
  {
   "cell_type": "code",
   "execution_count": null,
   "metadata": {},
   "outputs": [],
   "source": []
  }
 ],
 "metadata": {
  "kernelspec": {
   "display_name": "Python 3",
   "language": "python",
   "name": "python3"
  },
  "language_info": {
   "codemirror_mode": {
    "name": "ipython",
    "version": 3
   },
   "file_extension": ".py",
   "mimetype": "text/x-python",
   "name": "python",
   "nbconvert_exporter": "python",
   "pygments_lexer": "ipython3",
   "version": "3.6.3"
  }
 },
 "nbformat": 4,
 "nbformat_minor": 2
}
